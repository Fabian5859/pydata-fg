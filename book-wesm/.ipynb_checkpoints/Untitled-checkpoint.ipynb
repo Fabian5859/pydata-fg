{
 "cells": [
  {
   "cell_type": "code",
   "execution_count": 1,
   "id": "ef856879-c641-4ca8-84cf-fd7b4a45f419",
   "metadata": {},
   "outputs": [],
   "source": [
    "import ch02_somemodule"
   ]
  },
  {
   "cell_type": "code",
   "execution_count": 2,
   "id": "2373db03-4326-48cd-b00b-97c00f7ad489",
   "metadata": {},
   "outputs": [
    {
     "name": "stdout",
     "output_type": "stream",
     "text": [
      "7\n"
     ]
    }
   ],
   "source": [
    "result = ch02_somemodule.f(5)\n",
    "print (result)"
   ]
  },
  {
   "cell_type": "code",
   "execution_count": null,
   "id": "93651eca-e37a-48df-9df2-ade7dc17ad67",
   "metadata": {},
   "outputs": [],
   "source": []
  }
 ],
 "metadata": {
  "kernelspec": {
   "display_name": "Python 3 (ipykernel)",
   "language": "python",
   "name": "python3"
  },
  "language_info": {
   "codemirror_mode": {
    "name": "ipython",
    "version": 3
   },
   "file_extension": ".py",
   "mimetype": "text/x-python",
   "name": "python",
   "nbconvert_exporter": "python",
   "pygments_lexer": "ipython3",
   "version": "3.10.13"
  }
 },
 "nbformat": 4,
 "nbformat_minor": 5
}
